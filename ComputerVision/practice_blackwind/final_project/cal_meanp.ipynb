{
 "cells": [
  {
   "cell_type": "code",
   "execution_count": 13,
   "metadata": {},
   "outputs": [],
   "source": [
    "from functions import *\n",
    "import glob\n",
    "import os\n",
    "import numpy as np\n",
    "import re\n",
    "from functions import _main"
   ]
  },
  {
   "cell_type": "code",
   "execution_count": 14,
   "metadata": {},
   "outputs": [
    {
     "name": "stdout",
     "output_type": "stream",
     "text": [
      "making the name dictionary of samples...\n",
      "making the np arrays of the sample images...\n",
      "Done.\n"
     ]
    }
   ],
   "source": [
    "path = \"/home/dgist/2-1/ComputerVision/practice_blackwind/final_project/images\"\n",
    "file_list = sorted(glob.glob(os.path.join(path, \"*.png\")))\n",
    "\n",
    "print(\"making the name dictionary of samples...\")\n",
    "\n",
    "s_dict = {}\n",
    "u_dict = {}\n",
    "pattern_s = r's[0-9]*.png'\n",
    "\n",
    "for _path in file_list:\n",
    "    name = os.path.basename(_path)\n",
    "\n",
    "    if re.search(pattern_s, name):\n",
    "        s_dict[name] = _path\n",
    "    else:\n",
    "        u_dict[name] = _path\n",
    "\n",
    "print(\"making the np arrays of the sample images...\")\n",
    "\n",
    "s_result = np.stack([_main(path).flatten() for path in s_dict.values()])\n",
    "u_result = np.stack([_main(path).flatten() for path in u_dict.values()])\n",
    "\n",
    "meanp = np.array([np.mean(s_result, axis=0), np.mean(u_result, axis=0)], dtype=object)\n",
    "\n",
    "print(\"Done.\")"
   ]
  },
  {
   "cell_type": "code",
   "execution_count": 15,
   "metadata": {},
   "outputs": [
    {
     "data": {
      "text/plain": [
       "array([[5.916666666666667, 8.083333333333334, 4.0, ...,\n",
       "        21.583333333333332, 15.25, 9.916666666666666],\n",
       "       [12.5, 33.5, 22.583333333333332, ..., 9.416666666666666, 16.25,\n",
       "        13.583333333333334]], dtype=object)"
      ]
     },
     "execution_count": 15,
     "metadata": {},
     "output_type": "execute_result"
    }
   ],
   "source": [
    "meanp"
   ]
  },
  {
   "cell_type": "code",
   "execution_count": 16,
   "metadata": {},
   "outputs": [],
   "source": [
    "np.savetxt('result.txt', meanp, delimiter=',')"
   ]
  }
 ],
 "metadata": {
  "kernelspec": {
   "display_name": "Python 3",
   "language": "python",
   "name": "python3"
  },
  "language_info": {
   "codemirror_mode": {
    "name": "ipython",
    "version": 3
   },
   "file_extension": ".py",
   "mimetype": "text/x-python",
   "name": "python",
   "nbconvert_exporter": "python",
   "pygments_lexer": "ipython3",
   "version": "3.10.6"
  },
  "orig_nbformat": 4
 },
 "nbformat": 4,
 "nbformat_minor": 2
}
